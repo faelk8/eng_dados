{
 "cells": [
  {
   "cell_type": "code",
   "execution_count": 1,
   "metadata": {},
   "outputs": [],
   "source": [
    "import pandas as pd"
   ]
  },
  {
   "cell_type": "code",
   "execution_count": 2,
   "metadata": {},
   "outputs": [],
   "source": [
    "df_json = pd.read_json(\"../data_raw/dados_empresaA.json\")"
   ]
  },
  {
   "cell_type": "code",
   "execution_count": 3,
   "metadata": {},
   "outputs": [
    {
     "data": {
      "text/html": [
       "<div>\n",
       "<style scoped>\n",
       "    .dataframe tbody tr th:only-of-type {\n",
       "        vertical-align: middle;\n",
       "    }\n",
       "\n",
       "    .dataframe tbody tr th {\n",
       "        vertical-align: top;\n",
       "    }\n",
       "\n",
       "    .dataframe thead th {\n",
       "        text-align: right;\n",
       "    }\n",
       "</style>\n",
       "<table border=\"1\" class=\"dataframe\">\n",
       "  <thead>\n",
       "    <tr style=\"text-align: right;\">\n",
       "      <th></th>\n",
       "      <th>Nome do Produto</th>\n",
       "      <th>Categoria do Produto</th>\n",
       "      <th>Preço do Produto (R$)</th>\n",
       "      <th>Quantidade em Estoque</th>\n",
       "      <th>Filial</th>\n",
       "    </tr>\n",
       "  </thead>\n",
       "  <tbody>\n",
       "    <tr>\n",
       "      <th>0</th>\n",
       "      <td>Blush em pó</td>\n",
       "      <td>Eletrodomésticos</td>\n",
       "      <td>79.41</td>\n",
       "      <td>7</td>\n",
       "      <td>Filial 7</td>\n",
       "    </tr>\n",
       "    <tr>\n",
       "      <th>1</th>\n",
       "      <td>Lápis de sobrancelha</td>\n",
       "      <td>Eletrodomésticos</td>\n",
       "      <td>85.47</td>\n",
       "      <td>78</td>\n",
       "      <td>Filial 8</td>\n",
       "    </tr>\n",
       "    <tr>\n",
       "      <th>2</th>\n",
       "      <td>Base líquida</td>\n",
       "      <td>Roupas</td>\n",
       "      <td>75.02</td>\n",
       "      <td>34</td>\n",
       "      <td>Filial 8</td>\n",
       "    </tr>\n",
       "    <tr>\n",
       "      <th>3</th>\n",
       "      <td>Base líquida</td>\n",
       "      <td>Roupas</td>\n",
       "      <td>44.94</td>\n",
       "      <td>90</td>\n",
       "      <td>Filial 10</td>\n",
       "    </tr>\n",
       "    <tr>\n",
       "      <th>4</th>\n",
       "      <td>Lápis de sobrancelha</td>\n",
       "      <td>Alimentos</td>\n",
       "      <td>58.63</td>\n",
       "      <td>91</td>\n",
       "      <td>Filial 7</td>\n",
       "    </tr>\n",
       "  </tbody>\n",
       "</table>\n",
       "</div>"
      ],
      "text/plain": [
       "        Nome do Produto Categoria do Produto  Preço do Produto (R$)  \\\n",
       "0           Blush em pó     Eletrodomésticos                  79.41   \n",
       "1  Lápis de sobrancelha     Eletrodomésticos                  85.47   \n",
       "2          Base líquida               Roupas                  75.02   \n",
       "3          Base líquida               Roupas                  44.94   \n",
       "4  Lápis de sobrancelha            Alimentos                  58.63   \n",
       "\n",
       "   Quantidade em Estoque     Filial  \n",
       "0                      7   Filial 7  \n",
       "1                     78   Filial 8  \n",
       "2                     34   Filial 8  \n",
       "3                     90  Filial 10  \n",
       "4                     91   Filial 7  "
      ]
     },
     "execution_count": 3,
     "metadata": {},
     "output_type": "execute_result"
    }
   ],
   "source": [
    "df_json.head()"
   ]
  },
  {
   "cell_type": "code",
   "execution_count": 4,
   "metadata": {},
   "outputs": [
    {
     "name": "stdout",
     "output_type": "stream",
     "text": [
      "<class 'pandas.core.frame.DataFrame'>\n",
      "Index: 3123 entries, 0 to 3122\n",
      "Data columns (total 5 columns):\n",
      " #   Column                 Non-Null Count  Dtype  \n",
      "---  ------                 --------------  -----  \n",
      " 0   Nome do Produto        3123 non-null   object \n",
      " 1   Categoria do Produto   3123 non-null   object \n",
      " 2   Preço do Produto (R$)  3123 non-null   float64\n",
      " 3   Quantidade em Estoque  3123 non-null   int64  \n",
      " 4   Filial                 3123 non-null   object \n",
      "dtypes: float64(1), int64(1), object(3)\n",
      "memory usage: 146.4+ KB\n"
     ]
    }
   ],
   "source": [
    "df_json.info()"
   ]
  },
  {
   "cell_type": "code",
   "execution_count": 5,
   "metadata": {},
   "outputs": [],
   "source": [
    "df_csv = pd.read_csv(\"../data_raw/dados_empresaB.csv\")"
   ]
  },
  {
   "cell_type": "code",
   "execution_count": 6,
   "metadata": {},
   "outputs": [
    {
     "data": {
      "text/html": [
       "<div>\n",
       "<style scoped>\n",
       "    .dataframe tbody tr th:only-of-type {\n",
       "        vertical-align: middle;\n",
       "    }\n",
       "\n",
       "    .dataframe tbody tr th {\n",
       "        vertical-align: top;\n",
       "    }\n",
       "\n",
       "    .dataframe thead th {\n",
       "        text-align: right;\n",
       "    }\n",
       "</style>\n",
       "<table border=\"1\" class=\"dataframe\">\n",
       "  <thead>\n",
       "    <tr style=\"text-align: right;\">\n",
       "      <th></th>\n",
       "      <th>Nome do Item</th>\n",
       "      <th>Classificação do Produto</th>\n",
       "      <th>Valor em Reais (R$)</th>\n",
       "      <th>Quantidade em Estoque</th>\n",
       "      <th>Nome da Loja</th>\n",
       "      <th>Data da Venda</th>\n",
       "    </tr>\n",
       "  </thead>\n",
       "  <tbody>\n",
       "    <tr>\n",
       "      <th>0</th>\n",
       "      <td>Lápis de sobrancelha</td>\n",
       "      <td>Roupas</td>\n",
       "      <td>55.17</td>\n",
       "      <td>62</td>\n",
       "      <td>Filial 1</td>\n",
       "      <td>2023-04-13 18:58:06.794203</td>\n",
       "    </tr>\n",
       "    <tr>\n",
       "      <th>1</th>\n",
       "      <td>Batom matte</td>\n",
       "      <td>Eletrônicos</td>\n",
       "      <td>74.15</td>\n",
       "      <td>48</td>\n",
       "      <td>Filial 9</td>\n",
       "      <td>2023-06-03 18:58:06.794203</td>\n",
       "    </tr>\n",
       "    <tr>\n",
       "      <th>2</th>\n",
       "      <td>Corretivo</td>\n",
       "      <td>Roupas</td>\n",
       "      <td>54.86</td>\n",
       "      <td>36</td>\n",
       "      <td>Filial 5</td>\n",
       "      <td>2023-06-08 18:58:06.794203</td>\n",
       "    </tr>\n",
       "    <tr>\n",
       "      <th>3</th>\n",
       "      <td>Delineador líquido</td>\n",
       "      <td>Roupas</td>\n",
       "      <td>91.29</td>\n",
       "      <td>1</td>\n",
       "      <td>Filial 8</td>\n",
       "      <td>2023-02-27 18:58:06.794203</td>\n",
       "    </tr>\n",
       "    <tr>\n",
       "      <th>4</th>\n",
       "      <td>Batom líquido</td>\n",
       "      <td>Roupas</td>\n",
       "      <td>44.65</td>\n",
       "      <td>52</td>\n",
       "      <td>Filial 2</td>\n",
       "      <td>2022-09-05 18:58:06.794203</td>\n",
       "    </tr>\n",
       "  </tbody>\n",
       "</table>\n",
       "</div>"
      ],
      "text/plain": [
       "           Nome do Item Classificação do Produto  Valor em Reais (R$)  \\\n",
       "0  Lápis de sobrancelha                   Roupas                55.17   \n",
       "1           Batom matte              Eletrônicos                74.15   \n",
       "2             Corretivo                   Roupas                54.86   \n",
       "3    Delineador líquido                   Roupas                91.29   \n",
       "4         Batom líquido                   Roupas                44.65   \n",
       "\n",
       "   Quantidade em Estoque Nome da Loja               Data da Venda  \n",
       "0                     62     Filial 1  2023-04-13 18:58:06.794203  \n",
       "1                     48     Filial 9  2023-06-03 18:58:06.794203  \n",
       "2                     36     Filial 5  2023-06-08 18:58:06.794203  \n",
       "3                      1     Filial 8  2023-02-27 18:58:06.794203  \n",
       "4                     52     Filial 2  2022-09-05 18:58:06.794203  "
      ]
     },
     "execution_count": 6,
     "metadata": {},
     "output_type": "execute_result"
    }
   ],
   "source": [
    "df_csv.head()"
   ]
  },
  {
   "cell_type": "code",
   "execution_count": 7,
   "metadata": {},
   "outputs": [
    {
     "name": "stdout",
     "output_type": "stream",
     "text": [
      "<class 'pandas.core.frame.DataFrame'>\n",
      "RangeIndex: 1323 entries, 0 to 1322\n",
      "Data columns (total 6 columns):\n",
      " #   Column                    Non-Null Count  Dtype  \n",
      "---  ------                    --------------  -----  \n",
      " 0   Nome do Item              1323 non-null   object \n",
      " 1   Classificação do Produto  1323 non-null   object \n",
      " 2   Valor em Reais (R$)       1323 non-null   float64\n",
      " 3   Quantidade em Estoque     1323 non-null   int64  \n",
      " 4   Nome da Loja              1323 non-null   object \n",
      " 5   Data da Venda             1323 non-null   object \n",
      "dtypes: float64(1), int64(1), object(4)\n",
      "memory usage: 62.1+ KB\n"
     ]
    }
   ],
   "source": [
    "df_csv.info()"
   ]
  },
  {
   "cell_type": "code",
   "execution_count": 8,
   "metadata": {},
   "outputs": [],
   "source": [
    "df_csv.drop(columns=['Data da Venda'], inplace=True)"
   ]
  },
  {
   "cell_type": "code",
   "execution_count": 9,
   "metadata": {},
   "outputs": [
    {
     "data": {
      "text/html": [
       "<div>\n",
       "<style scoped>\n",
       "    .dataframe tbody tr th:only-of-type {\n",
       "        vertical-align: middle;\n",
       "    }\n",
       "\n",
       "    .dataframe tbody tr th {\n",
       "        vertical-align: top;\n",
       "    }\n",
       "\n",
       "    .dataframe thead th {\n",
       "        text-align: right;\n",
       "    }\n",
       "</style>\n",
       "<table border=\"1\" class=\"dataframe\">\n",
       "  <thead>\n",
       "    <tr style=\"text-align: right;\">\n",
       "      <th></th>\n",
       "      <th>Nome do Item</th>\n",
       "      <th>Classificação do Produto</th>\n",
       "      <th>Valor em Reais (R$)</th>\n",
       "      <th>Quantidade em Estoque</th>\n",
       "      <th>Nome da Loja</th>\n",
       "    </tr>\n",
       "  </thead>\n",
       "  <tbody>\n",
       "    <tr>\n",
       "      <th>0</th>\n",
       "      <td>Lápis de sobrancelha</td>\n",
       "      <td>Roupas</td>\n",
       "      <td>55.17</td>\n",
       "      <td>62</td>\n",
       "      <td>Filial 1</td>\n",
       "    </tr>\n",
       "    <tr>\n",
       "      <th>1</th>\n",
       "      <td>Batom matte</td>\n",
       "      <td>Eletrônicos</td>\n",
       "      <td>74.15</td>\n",
       "      <td>48</td>\n",
       "      <td>Filial 9</td>\n",
       "    </tr>\n",
       "    <tr>\n",
       "      <th>2</th>\n",
       "      <td>Corretivo</td>\n",
       "      <td>Roupas</td>\n",
       "      <td>54.86</td>\n",
       "      <td>36</td>\n",
       "      <td>Filial 5</td>\n",
       "    </tr>\n",
       "    <tr>\n",
       "      <th>3</th>\n",
       "      <td>Delineador líquido</td>\n",
       "      <td>Roupas</td>\n",
       "      <td>91.29</td>\n",
       "      <td>1</td>\n",
       "      <td>Filial 8</td>\n",
       "    </tr>\n",
       "    <tr>\n",
       "      <th>4</th>\n",
       "      <td>Batom líquido</td>\n",
       "      <td>Roupas</td>\n",
       "      <td>44.65</td>\n",
       "      <td>52</td>\n",
       "      <td>Filial 2</td>\n",
       "    </tr>\n",
       "  </tbody>\n",
       "</table>\n",
       "</div>"
      ],
      "text/plain": [
       "           Nome do Item Classificação do Produto  Valor em Reais (R$)  \\\n",
       "0  Lápis de sobrancelha                   Roupas                55.17   \n",
       "1           Batom matte              Eletrônicos                74.15   \n",
       "2             Corretivo                   Roupas                54.86   \n",
       "3    Delineador líquido                   Roupas                91.29   \n",
       "4         Batom líquido                   Roupas                44.65   \n",
       "\n",
       "   Quantidade em Estoque Nome da Loja  \n",
       "0                     62     Filial 1  \n",
       "1                     48     Filial 9  \n",
       "2                     36     Filial 5  \n",
       "3                      1     Filial 8  \n",
       "4                     52     Filial 2  "
      ]
     },
     "execution_count": 9,
     "metadata": {},
     "output_type": "execute_result"
    }
   ],
   "source": [
    "df_csv.head()"
   ]
  },
  {
   "cell_type": "code",
   "execution_count": 10,
   "metadata": {},
   "outputs": [
    {
     "data": {
      "text/plain": [
       "Index(['Nome do Produto', 'Categoria do Produto', 'Preço do Produto (R$)',\n",
       "       'Quantidade em Estoque', 'Filial'],\n",
       "      dtype='object')"
      ]
     },
     "execution_count": 10,
     "metadata": {},
     "output_type": "execute_result"
    }
   ],
   "source": [
    "df_json.columns"
   ]
  },
  {
   "cell_type": "code",
   "execution_count": 11,
   "metadata": {},
   "outputs": [],
   "source": [
    "df_csv.columns = ['produto', 'categoria', 'valor', 'quantidade','filial']\n",
    "df_json.columns = ['produto', 'categoria', 'valor', 'quantidade','filial']"
   ]
  },
  {
   "cell_type": "code",
   "execution_count": 12,
   "metadata": {},
   "outputs": [
    {
     "data": {
      "text/plain": [
       "Index(['produto', 'categoria', 'valor', 'quantidade', 'filial'], dtype='object')"
      ]
     },
     "execution_count": 12,
     "metadata": {},
     "output_type": "execute_result"
    }
   ],
   "source": [
    "df_json.columns"
   ]
  },
  {
   "cell_type": "code",
   "execution_count": 13,
   "metadata": {},
   "outputs": [
    {
     "data": {
      "text/plain": [
       "Index(['produto', 'categoria', 'valor', 'quantidade', 'filial'], dtype='object')"
      ]
     },
     "execution_count": 13,
     "metadata": {},
     "output_type": "execute_result"
    }
   ],
   "source": [
    "df_csv.columns"
   ]
  },
  {
   "cell_type": "code",
   "execution_count": 14,
   "metadata": {},
   "outputs": [],
   "source": [
    "df_csv['loja'] = 'B'\n",
    "df_json['loja'] = 'A'"
   ]
  },
  {
   "cell_type": "code",
   "execution_count": 15,
   "metadata": {},
   "outputs": [
    {
     "data": {
      "text/html": [
       "<div>\n",
       "<style scoped>\n",
       "    .dataframe tbody tr th:only-of-type {\n",
       "        vertical-align: middle;\n",
       "    }\n",
       "\n",
       "    .dataframe tbody tr th {\n",
       "        vertical-align: top;\n",
       "    }\n",
       "\n",
       "    .dataframe thead th {\n",
       "        text-align: right;\n",
       "    }\n",
       "</style>\n",
       "<table border=\"1\" class=\"dataframe\">\n",
       "  <thead>\n",
       "    <tr style=\"text-align: right;\">\n",
       "      <th></th>\n",
       "      <th>produto</th>\n",
       "      <th>categoria</th>\n",
       "      <th>valor</th>\n",
       "      <th>quantidade</th>\n",
       "      <th>filial</th>\n",
       "      <th>loja</th>\n",
       "    </tr>\n",
       "  </thead>\n",
       "  <tbody>\n",
       "    <tr>\n",
       "      <th>0</th>\n",
       "      <td>Lápis de sobrancelha</td>\n",
       "      <td>Roupas</td>\n",
       "      <td>55.17</td>\n",
       "      <td>62</td>\n",
       "      <td>Filial 1</td>\n",
       "      <td>B</td>\n",
       "    </tr>\n",
       "    <tr>\n",
       "      <th>1</th>\n",
       "      <td>Batom matte</td>\n",
       "      <td>Eletrônicos</td>\n",
       "      <td>74.15</td>\n",
       "      <td>48</td>\n",
       "      <td>Filial 9</td>\n",
       "      <td>B</td>\n",
       "    </tr>\n",
       "    <tr>\n",
       "      <th>2</th>\n",
       "      <td>Corretivo</td>\n",
       "      <td>Roupas</td>\n",
       "      <td>54.86</td>\n",
       "      <td>36</td>\n",
       "      <td>Filial 5</td>\n",
       "      <td>B</td>\n",
       "    </tr>\n",
       "    <tr>\n",
       "      <th>3</th>\n",
       "      <td>Delineador líquido</td>\n",
       "      <td>Roupas</td>\n",
       "      <td>91.29</td>\n",
       "      <td>1</td>\n",
       "      <td>Filial 8</td>\n",
       "      <td>B</td>\n",
       "    </tr>\n",
       "    <tr>\n",
       "      <th>4</th>\n",
       "      <td>Batom líquido</td>\n",
       "      <td>Roupas</td>\n",
       "      <td>44.65</td>\n",
       "      <td>52</td>\n",
       "      <td>Filial 2</td>\n",
       "      <td>B</td>\n",
       "    </tr>\n",
       "  </tbody>\n",
       "</table>\n",
       "</div>"
      ],
      "text/plain": [
       "                produto    categoria  valor  quantidade    filial loja\n",
       "0  Lápis de sobrancelha       Roupas  55.17          62  Filial 1    B\n",
       "1           Batom matte  Eletrônicos  74.15          48  Filial 9    B\n",
       "2             Corretivo       Roupas  54.86          36  Filial 5    B\n",
       "3    Delineador líquido       Roupas  91.29           1  Filial 8    B\n",
       "4         Batom líquido       Roupas  44.65          52  Filial 2    B"
      ]
     },
     "execution_count": 15,
     "metadata": {},
     "output_type": "execute_result"
    }
   ],
   "source": [
    "df = pd.concat([df_csv,df_json])\n",
    "df.head()"
   ]
  },
  {
   "cell_type": "code",
   "execution_count": 16,
   "metadata": {},
   "outputs": [],
   "source": [
    "df.to_csv(\"../data_processed/dados_processados.csv\",index=False)"
   ]
  }
 ],
 "metadata": {
  "kernelspec": {
   "display_name": "Python 3",
   "language": "python",
   "name": "python3"
  },
  "language_info": {
   "codemirror_mode": {
    "name": "ipython",
    "version": 3
   },
   "file_extension": ".py",
   "mimetype": "text/x-python",
   "name": "python",
   "nbconvert_exporter": "python",
   "pygments_lexer": "ipython3",
   "version": "3.10.12"
  }
 },
 "nbformat": 4,
 "nbformat_minor": 2
}
